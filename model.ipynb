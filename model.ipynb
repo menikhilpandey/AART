{
 "cells": [
  {
   "cell_type": "code",
   "execution_count": 1,
   "metadata": {},
   "outputs": [],
   "source": [
    "import pandas as pd\n",
    "import numpy as np\n",
    "from numpy import array\n",
    "from numpy import argmax\n",
    "from sklearn.preprocessing import LabelEncoder\n",
    "from sklearn.preprocessing import OneHotEncoder"
   ]
  },
  {
   "cell_type": "code",
   "execution_count": 2,
   "metadata": {},
   "outputs": [],
   "source": [
    "df = pd.read_csv('data.csv')"
   ]
  },
  {
   "cell_type": "code",
   "execution_count": 3,
   "metadata": {},
   "outputs": [
    {
     "data": {
      "text/html": [
       "<div>\n",
       "<style scoped>\n",
       "    .dataframe tbody tr th:only-of-type {\n",
       "        vertical-align: middle;\n",
       "    }\n",
       "\n",
       "    .dataframe tbody tr th {\n",
       "        vertical-align: top;\n",
       "    }\n",
       "\n",
       "    .dataframe thead th {\n",
       "        text-align: right;\n",
       "    }\n",
       "</style>\n",
       "<table border=\"1\" class=\"dataframe\">\n",
       "  <thead>\n",
       "    <tr style=\"text-align: right;\">\n",
       "      <th></th>\n",
       "      <th>age</th>\n",
       "      <th>emotion</th>\n",
       "      <th>gender</th>\n",
       "      <th>industry</th>\n",
       "      <th>revisit</th>\n",
       "      <th>store</th>\n",
       "      <th>time_spent</th>\n",
       "    </tr>\n",
       "  </thead>\n",
       "  <tbody>\n",
       "    <tr>\n",
       "      <th>0</th>\n",
       "      <td>6</td>\n",
       "      <td>surprise</td>\n",
       "      <td>f</td>\n",
       "      <td>cos</td>\n",
       "      <td>0</td>\n",
       "      <td>1</td>\n",
       "      <td>25</td>\n",
       "    </tr>\n",
       "    <tr>\n",
       "      <th>1</th>\n",
       "      <td>15</td>\n",
       "      <td>surprise</td>\n",
       "      <td>f</td>\n",
       "      <td>cos</td>\n",
       "      <td>0</td>\n",
       "      <td>1</td>\n",
       "      <td>24</td>\n",
       "    </tr>\n",
       "    <tr>\n",
       "      <th>2</th>\n",
       "      <td>20</td>\n",
       "      <td>surprise</td>\n",
       "      <td>f</td>\n",
       "      <td>cos</td>\n",
       "      <td>0</td>\n",
       "      <td>1</td>\n",
       "      <td>28</td>\n",
       "    </tr>\n",
       "    <tr>\n",
       "      <th>3</th>\n",
       "      <td>19</td>\n",
       "      <td>neutral</td>\n",
       "      <td>f</td>\n",
       "      <td>cos</td>\n",
       "      <td>1</td>\n",
       "      <td>1</td>\n",
       "      <td>27</td>\n",
       "    </tr>\n",
       "    <tr>\n",
       "      <th>4</th>\n",
       "      <td>17</td>\n",
       "      <td>surprise</td>\n",
       "      <td>f</td>\n",
       "      <td>cos</td>\n",
       "      <td>0</td>\n",
       "      <td>1</td>\n",
       "      <td>28</td>\n",
       "    </tr>\n",
       "  </tbody>\n",
       "</table>\n",
       "</div>"
      ],
      "text/plain": [
       "   age   emotion gender industry  revisit  store  time_spent\n",
       "0    6  surprise      f      cos        0      1          25\n",
       "1   15  surprise      f      cos        0      1          24\n",
       "2   20  surprise      f      cos        0      1          28\n",
       "3   19   neutral      f      cos        1      1          27\n",
       "4   17  surprise      f      cos        0      1          28"
      ]
     },
     "execution_count": 3,
     "metadata": {},
     "output_type": "execute_result"
    }
   ],
   "source": [
    "df.head()"
   ]
  },
  {
   "cell_type": "code",
   "execution_count": 4,
   "metadata": {},
   "outputs": [
    {
     "name": "stdout",
     "output_type": "stream",
     "text": [
      "app      167\n",
      "elec     142\n",
      "toys      93\n",
      "jewel     63\n",
      "cos       55\n",
      "auto      37\n",
      "dtype: int64\n"
     ]
    }
   ],
   "source": [
    "data = df['industry']\n",
    "values = array(data)\n",
    "\n",
    "print pd.value_counts(values)"
   ]
  },
  {
   "cell_type": "code",
   "execution_count": 5,
   "metadata": {},
   "outputs": [],
   "source": [
    "label_enc_industry = LabelEncoder()\n",
    "int_enc_industry = label_enc_industry.fit_transform(values)\n",
    "int_enc_industry = int_enc_industry.reshape(len(int_enc_industry), 1)"
   ]
  },
  {
   "cell_type": "code",
   "execution_count": 6,
   "metadata": {},
   "outputs": [],
   "source": [
    "onehot_enc_industry = OneHotEncoder(sparse=False)\n",
    "onehot_enc_industry = onehot_enc_industry.fit_transform(int_enc_industry)\n",
    "\n",
    "rev_map_ind = lambda row: label_enc_industry.inverse_transform(argmax(row))"
   ]
  },
  {
   "cell_type": "code",
   "execution_count": 7,
   "metadata": {},
   "outputs": [],
   "source": [
    "for i in range(df.industry.unique().shape[0]):\n",
    "    col_name = label_enc_industry.inverse_transform(i)\n",
    "    col_data = onehot_enc_industry[:,i]\n",
    "    df[col_name] = col_data"
   ]
  },
  {
   "cell_type": "code",
   "execution_count": 8,
   "metadata": {},
   "outputs": [],
   "source": [
    "label_encoder_emotion = LabelEncoder()\n",
    "df[\"enc_emotion\"] = label_encoder_emotion.fit_transform(df.emotion)\n",
    "label_encoder_gender = LabelEncoder()\n",
    "df[\"enc_gender\"]= label_encoder_emotion.fit_transform(df.gender)"
   ]
  },
  {
   "cell_type": "code",
   "execution_count": 9,
   "metadata": {},
   "outputs": [],
   "source": [
    "cols_X = ['age', 'revisit', 'time_spent', 'enc_emotion', 'enc_gender']\n",
    "cols_y = ['app', 'auto', 'cos', 'elec', 'jewel', 'toys']\n",
    "X = df[cols_X].values\n",
    "y = df[cols_y].values"
   ]
  },
  {
   "cell_type": "code",
   "execution_count": 10,
   "metadata": {},
   "outputs": [],
   "source": [
    "from sklearn.ensemble import RandomForestClassifier as clf\n",
    "from sklearn.model_selection import train_test_split\n",
    "from sklearn.metrics import accuracy_score"
   ]
  },
  {
   "cell_type": "code",
   "execution_count": 11,
   "metadata": {},
   "outputs": [],
   "source": [
    "ind_clf = clf(class_weight='balanced', random_state=69)"
   ]
  },
  {
   "cell_type": "code",
   "execution_count": 12,
   "metadata": {},
   "outputs": [],
   "source": [
    "X_train, X_test, y_train, y_test = train_test_split(X,y,test_size=0.33, random_state=69)"
   ]
  },
  {
   "cell_type": "code",
   "execution_count": 13,
   "metadata": {},
   "outputs": [],
   "source": [
    "score_map = dict()\n",
    "for i in range(len(cols_y)):\n",
    "    ind_clf.fit(X_train,y_train[:,i])\n",
    "    ind_name = label_enc_industry.inverse_transform(i)\n",
    "    ind_accuracy = accuracy_score(y_test[:,i], ind_clf.predict(X_test))\n",
    "    score_map[ind_name] = ind_accuracy"
   ]
  },
  {
   "cell_type": "markdown",
   "metadata": {},
   "source": [
    "##### app      167\n",
    "##### elec     142\n",
    "##### toys      93\n",
    "##### jewel     63\n",
    "##### cos       55\n",
    "##### auto      37"
   ]
  },
  {
   "cell_type": "code",
   "execution_count": 14,
   "metadata": {},
   "outputs": [
    {
     "name": "stdout",
     "output_type": "stream",
     "text": [
      "auto 0.9130434782608695\n",
      "cos 0.8695652173913043\n",
      "jewel 0.8586956521739131\n",
      "toys 0.842391304347826\n",
      "app 0.8369565217391305\n",
      "elec 0.7336956521739131\n"
     ]
    }
   ],
   "source": [
    "for ind, score in sorted(score_map.items(),key=lambda x: x[1],reverse=True):\n",
    "    print ind,score"
   ]
  }
 ],
 "metadata": {
  "kernelspec": {
   "display_name": "Python 2",
   "language": "python",
   "name": "python2"
  },
  "language_info": {
   "codemirror_mode": {
    "name": "ipython",
    "version": 2
   },
   "file_extension": ".py",
   "mimetype": "text/x-python",
   "name": "python",
   "nbconvert_exporter": "python",
   "pygments_lexer": "ipython2",
   "version": "2.7.15"
  }
 },
 "nbformat": 4,
 "nbformat_minor": 2
}
